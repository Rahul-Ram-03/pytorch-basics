{
 "cells": [
  {
   "cell_type": "code",
   "execution_count": null,
   "metadata": {},
   "outputs": [],
   "source": [
    "from torch.utils.data import DataLoader\n",
    "from torchvision import datasets\n",
    "from torchvision.transforms import ToTensor\n",
    "import torch.nn as N\n",
    "import matplotlib.pyplot as plt"
   ]
  },
  {
   "cell_type": "code",
   "execution_count": null,
   "metadata": {},
   "outputs": [],
   "source": [
    "import torch\n",
    "torch.manual_seed(42)\n",
    "\n",
    "batch_size = 32\n",
    "epochs = 5\n",
    "learning_rate = 1e-3"
   ]
  },
  {
   "cell_type": "code",
   "execution_count": null,
   "metadata": {},
   "outputs": [],
   "source": [
    "training_data = datasets.MNIST(\n",
    "    root= '../pytorch-basics/datasets/mnist/train',\n",
    "    train= True,\n",
    "    download= True,\n",
    "    transform= ToTensor()\n",
    ")\n",
    "\n",
    "test_data = datasets.MNIST(\n",
    "    root= '../pytorch-basics/datasets/mnist/test',\n",
    "    train= False,\n",
    "    download= True,\n",
    "    transform= ToTensor()\n",
    ")"
   ]
  },
  {
   "cell_type": "code",
   "execution_count": null,
   "metadata": {},
   "outputs": [],
   "source": [
    "train_dataloader = DataLoader(training_data, batch_size= batch_size, shuffle= True)\n",
    "test_dataloader = DataLoader(test_data, batch_size= batch_size, shuffle= True) "
   ]
  },
  {
   "cell_type": "code",
   "execution_count": null,
   "metadata": {},
   "outputs": [],
   "source": [
    "model = N.Sequential(\n",
    "            N.Conv2d(in_channels= 1, out_channels= 16, kernel_size= 3, stride= 1, padding= 1),\n",
    "            N.Tanh(),\n",
    "            N.MaxPool2d(kernel_size= 2, stride= 2),\n",
    "\n",
    "            N.Conv2d(in_channels= 16, out_channels= 32, kernel_size= 3, stride= 1, padding= 1),\n",
    "            N.Tanh(),\n",
    "            N.MaxPool2d(kernel_size= 2, stride= 2),\n",
    "\n",
    "            N.Flatten(),\n",
    "\n",
    "            N.Linear(in_features= 32*7*7, out_features= 500),\n",
    "            N.Tanh(),\n",
    "            \n",
    "            N.Linear(in_features= 500, out_features= 100),\n",
    "            N.Tanh(),\n",
    "            \n",
    "            N.Linear(in_features= 100, out_features= 50),\n",
    "            N.Tanh(),\n",
    "            \n",
    "            N.Linear(in_features= 50, out_features= 10),\n",
    ")"
   ]
  },
  {
   "cell_type": "code",
   "execution_count": null,
   "metadata": {},
   "outputs": [],
   "source": [
    "from torchinfo import summary\n",
    "\n",
    "summary(model, input_size= (batch_size, 1, 28, 28), col_names=['input_size', 'output_size', 'num_params', 'trainable'], \n",
    "\n",
    "        row_settings=['var_names'], verbose=0)"
   ]
  },
  {
   "cell_type": "code",
   "execution_count": null,
   "metadata": {},
   "outputs": [],
   "source": [
    "from torchmetrics import Accuracy\n",
    "\n",
    "loss_fn = N.CrossEntropyLoss()\n",
    "optimizer = torch.optim.Adam(model.parameters(), learning_rate)\n",
    "accuracy_fn = Accuracy(task= 'multiclass', num_classes= 10).cuda()"
   ]
  },
  {
   "cell_type": "code",
   "execution_count": null,
   "metadata": {},
   "outputs": [],
   "source": [
    "for _ in range(epochs):\n",
    "    train_loss = 0\n",
    "    print(f\"\\nStarting epoch: {_ + 1}\\n~~~~~~~~~~~\")\n",
    "    for index, (input, target) in enumerate(train_dataloader):\n",
    "        input, target = input.cuda(), target.cuda()\n",
    "        model.train()\n",
    "        output = model(input)\n",
    "\n",
    "        loss = loss_fn(output, target)\n",
    "        train_loss += loss\n",
    "\n",
    "        optimizer.zero_grad()\n",
    "        loss.backward()\n",
    "        optimizer.step()\n",
    "\n",
    "        if(index % 500 == 0):\n",
    "            print(f\"Batch: {index} Loss:{loss:0.5f}\")\n",
    "    \n",
    "    train_loss /= len(train_dataloader)\n",
    "    test_loss, test_acc = 0, 0\n",
    "    model.eval()\n",
    "\n",
    "    with torch.inference_mode():\n",
    "        for test_input, test_target in test_dataloader:\n",
    "            test_input, test_target = test_input.cuda(), test_target.cuda()\n",
    "\n",
    "            test_pred = model(test_input)\n",
    "            test_loss += loss_fn(test_pred, test_target)\n",
    "            test_acc += accuracy_fn(test_target, test_pred.argmax(dim= 1))\n",
    "        \n",
    "        test_loss /= len(test_dataloader)\n",
    "        test_acc /= len(test_dataloader)\n",
    "\n",
    "    print(f\"Train loss: {train_loss:0.5f} Test loss: {test_loss:0.5f} Test acc: {test_acc*100:0.2f}%\")"
   ]
  },
  {
   "cell_type": "code",
   "execution_count": null,
   "metadata": {},
   "outputs": [],
   "source": [
    "import itertools\n",
    "\n",
    "sample_index =  torch.randint(0, len(test_dataloader), size= (1,))\n",
    "sample_input, sample_target = next(itertools.islice(test_dataloader, sample_index, None))\n",
    "sample_input, sample_target = sample_input.cuda(), sample_target.cuda()\n",
    "sample_output = model(sample_input)\n",
    "\n",
    "print(f\"Target: {sample_target} \\nOutput: {sample_output.argmax(dim= 1)}\")"
   ]
  },
  {
   "cell_type": "code",
   "execution_count": null,
   "metadata": {},
   "outputs": [],
   "source": [
    "torch.save(model, '../pytorch-basics/models/lenet-5.pt')"
   ]
  }
 ],
 "metadata": {
  "kernelspec": {
   "display_name": "Python 3",
   "language": "python",
   "name": "python3"
  },
  "language_info": {
   "codemirror_mode": {
    "name": "ipython",
    "version": 3
   },
   "file_extension": ".py",
   "mimetype": "text/x-python",
   "name": "python",
   "nbconvert_exporter": "python",
   "pygments_lexer": "ipython3",
   "version": "3.10.12"
  }
 },
 "nbformat": 4,
 "nbformat_minor": 2
}
