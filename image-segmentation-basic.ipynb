{
  "cells": [
    {
      "cell_type": "code",
      "source": [
        "!pip install torchinfo\n",
        "!pip install torchmetrics"
      ],
      "metadata": {
        "id": "vAqMCl7VSN0K",
        "outputId": "874c5d96-990e-469d-e2ed-6d16ec937a60",
        "colab": {
          "base_uri": "https://localhost:8080/"
        }
      },
      "execution_count": 1,
      "outputs": [
        {
          "output_type": "stream",
          "name": "stdout",
          "text": [
            "Collecting torchinfo\n",
            "  Downloading torchinfo-1.8.0-py3-none-any.whl (23 kB)\n",
            "Installing collected packages: torchinfo\n",
            "Successfully installed torchinfo-1.8.0\n",
            "Collecting torchmetrics\n",
            "  Downloading torchmetrics-1.4.0.post0-py3-none-any.whl (868 kB)\n",
            "\u001b[2K     \u001b[90m━━━━━━━━━━━━━━━━━━━━━━━━━━━━━━━━━━━━━━━━\u001b[0m \u001b[32m868.8/868.8 kB\u001b[0m \u001b[31m6.8 MB/s\u001b[0m eta \u001b[36m0:00:00\u001b[0m\n",
            "\u001b[?25hRequirement already satisfied: numpy>1.20.0 in /usr/local/lib/python3.10/dist-packages (from torchmetrics) (1.25.2)\n",
            "Requirement already satisfied: packaging>17.1 in /usr/local/lib/python3.10/dist-packages (from torchmetrics) (24.1)\n",
            "Requirement already satisfied: torch>=1.10.0 in /usr/local/lib/python3.10/dist-packages (from torchmetrics) (2.3.0+cu121)\n",
            "Collecting lightning-utilities>=0.8.0 (from torchmetrics)\n",
            "  Downloading lightning_utilities-0.11.3.post0-py3-none-any.whl (26 kB)\n",
            "Requirement already satisfied: setuptools in /usr/local/lib/python3.10/dist-packages (from lightning-utilities>=0.8.0->torchmetrics) (67.7.2)\n",
            "Requirement already satisfied: typing-extensions in /usr/local/lib/python3.10/dist-packages (from lightning-utilities>=0.8.0->torchmetrics) (4.12.2)\n",
            "Requirement already satisfied: filelock in /usr/local/lib/python3.10/dist-packages (from torch>=1.10.0->torchmetrics) (3.15.4)\n",
            "Requirement already satisfied: sympy in /usr/local/lib/python3.10/dist-packages (from torch>=1.10.0->torchmetrics) (1.13.0)\n",
            "Requirement already satisfied: networkx in /usr/local/lib/python3.10/dist-packages (from torch>=1.10.0->torchmetrics) (3.3)\n",
            "Requirement already satisfied: jinja2 in /usr/local/lib/python3.10/dist-packages (from torch>=1.10.0->torchmetrics) (3.1.4)\n",
            "Requirement already satisfied: fsspec in /usr/local/lib/python3.10/dist-packages (from torch>=1.10.0->torchmetrics) (2023.6.0)\n",
            "Collecting nvidia-cuda-nvrtc-cu12==12.1.105 (from torch>=1.10.0->torchmetrics)\n",
            "  Using cached nvidia_cuda_nvrtc_cu12-12.1.105-py3-none-manylinux1_x86_64.whl (23.7 MB)\n",
            "Collecting nvidia-cuda-runtime-cu12==12.1.105 (from torch>=1.10.0->torchmetrics)\n",
            "  Using cached nvidia_cuda_runtime_cu12-12.1.105-py3-none-manylinux1_x86_64.whl (823 kB)\n",
            "Collecting nvidia-cuda-cupti-cu12==12.1.105 (from torch>=1.10.0->torchmetrics)\n",
            "  Using cached nvidia_cuda_cupti_cu12-12.1.105-py3-none-manylinux1_x86_64.whl (14.1 MB)\n",
            "Collecting nvidia-cudnn-cu12==8.9.2.26 (from torch>=1.10.0->torchmetrics)\n",
            "  Using cached nvidia_cudnn_cu12-8.9.2.26-py3-none-manylinux1_x86_64.whl (731.7 MB)\n",
            "Collecting nvidia-cublas-cu12==12.1.3.1 (from torch>=1.10.0->torchmetrics)\n",
            "  Using cached nvidia_cublas_cu12-12.1.3.1-py3-none-manylinux1_x86_64.whl (410.6 MB)\n",
            "Collecting nvidia-cufft-cu12==11.0.2.54 (from torch>=1.10.0->torchmetrics)\n",
            "  Using cached nvidia_cufft_cu12-11.0.2.54-py3-none-manylinux1_x86_64.whl (121.6 MB)\n",
            "Collecting nvidia-curand-cu12==10.3.2.106 (from torch>=1.10.0->torchmetrics)\n",
            "  Using cached nvidia_curand_cu12-10.3.2.106-py3-none-manylinux1_x86_64.whl (56.5 MB)\n",
            "Collecting nvidia-cusolver-cu12==11.4.5.107 (from torch>=1.10.0->torchmetrics)\n",
            "  Using cached nvidia_cusolver_cu12-11.4.5.107-py3-none-manylinux1_x86_64.whl (124.2 MB)\n",
            "Collecting nvidia-cusparse-cu12==12.1.0.106 (from torch>=1.10.0->torchmetrics)\n",
            "  Using cached nvidia_cusparse_cu12-12.1.0.106-py3-none-manylinux1_x86_64.whl (196.0 MB)\n",
            "Collecting nvidia-nccl-cu12==2.20.5 (from torch>=1.10.0->torchmetrics)\n",
            "  Using cached nvidia_nccl_cu12-2.20.5-py3-none-manylinux2014_x86_64.whl (176.2 MB)\n",
            "Collecting nvidia-nvtx-cu12==12.1.105 (from torch>=1.10.0->torchmetrics)\n",
            "  Using cached nvidia_nvtx_cu12-12.1.105-py3-none-manylinux1_x86_64.whl (99 kB)\n",
            "Requirement already satisfied: triton==2.3.0 in /usr/local/lib/python3.10/dist-packages (from torch>=1.10.0->torchmetrics) (2.3.0)\n",
            "Collecting nvidia-nvjitlink-cu12 (from nvidia-cusolver-cu12==11.4.5.107->torch>=1.10.0->torchmetrics)\n",
            "  Downloading nvidia_nvjitlink_cu12-12.5.82-py3-none-manylinux2014_x86_64.whl (21.3 MB)\n",
            "\u001b[2K     \u001b[90m━━━━━━━━━━━━━━━━━━━━━━━━━━━━━━━━━━━━━━━━\u001b[0m \u001b[32m21.3/21.3 MB\u001b[0m \u001b[31m38.9 MB/s\u001b[0m eta \u001b[36m0:00:00\u001b[0m\n",
            "\u001b[?25hRequirement already satisfied: MarkupSafe>=2.0 in /usr/local/lib/python3.10/dist-packages (from jinja2->torch>=1.10.0->torchmetrics) (2.1.5)\n",
            "Requirement already satisfied: mpmath<1.4,>=1.1.0 in /usr/local/lib/python3.10/dist-packages (from sympy->torch>=1.10.0->torchmetrics) (1.3.0)\n",
            "Installing collected packages: nvidia-nvtx-cu12, nvidia-nvjitlink-cu12, nvidia-nccl-cu12, nvidia-curand-cu12, nvidia-cufft-cu12, nvidia-cuda-runtime-cu12, nvidia-cuda-nvrtc-cu12, nvidia-cuda-cupti-cu12, nvidia-cublas-cu12, lightning-utilities, nvidia-cusparse-cu12, nvidia-cudnn-cu12, nvidia-cusolver-cu12, torchmetrics\n",
            "Successfully installed lightning-utilities-0.11.3.post0 nvidia-cublas-cu12-12.1.3.1 nvidia-cuda-cupti-cu12-12.1.105 nvidia-cuda-nvrtc-cu12-12.1.105 nvidia-cuda-runtime-cu12-12.1.105 nvidia-cudnn-cu12-8.9.2.26 nvidia-cufft-cu12-11.0.2.54 nvidia-curand-cu12-10.3.2.106 nvidia-cusolver-cu12-11.4.5.107 nvidia-cusparse-cu12-12.1.0.106 nvidia-nccl-cu12-2.20.5 nvidia-nvjitlink-cu12-12.5.82 nvidia-nvtx-cu12-12.1.105 torchmetrics-1.4.0.post0\n"
          ]
        }
      ]
    },
    {
      "cell_type": "code",
      "execution_count": 2,
      "metadata": {
        "id": "OBsNxELKPioI"
      },
      "outputs": [],
      "source": [
        "import torch\n",
        "from torch.utils.data import DataLoader\n",
        "from torchvision.datasets import OxfordIIITPet\n",
        "from torchvision.transforms import ToTensor, Resize\n",
        "import torch.nn as N\n",
        "import matplotlib.pyplot as plt"
      ]
    },
    {
      "cell_type": "code",
      "execution_count": 3,
      "metadata": {
        "id": "W8ctJoncPioJ"
      },
      "outputs": [],
      "source": [
        "torch.manual_seed(42)\n",
        "\n",
        "batch_size = 32\n",
        "epochs = 5\n",
        "learning_rate = 1e-3\n",
        "\n",
        "filters = [32, 64, 128, 256]\n",
        "drop_rate= 0.15\n",
        "\n",
        "img_depth = 3"
      ]
    },
    {
      "cell_type": "code",
      "source": [
        "transforms = [ToTensor(), Resize((256,256))]"
      ],
      "metadata": {
        "id": "M1G7mLBgQ1PP"
      },
      "execution_count": 4,
      "outputs": []
    },
    {
      "cell_type": "code",
      "source": [
        "class CustomTransform(object):\n",
        "    def __init__(self, transforms):\n",
        "        super(CustomTransform, self).__init__()\n",
        "        self.transforms = transforms\n",
        "    def __call__(self, input):\n",
        "        for transform in self.transforms:\n",
        "            input = transform(input)\n",
        "        return input"
      ],
      "metadata": {
        "id": "VsdYtqBVfgBu"
      },
      "execution_count": 5,
      "outputs": []
    },
    {
      "cell_type": "code",
      "execution_count": 6,
      "metadata": {
        "id": "rzmnaXa_PioK",
        "outputId": "907bd384-4225-450d-a386-9d427e720541",
        "colab": {
          "base_uri": "https://localhost:8080/"
        }
      },
      "outputs": [
        {
          "output_type": "stream",
          "name": "stdout",
          "text": [
            "Downloading https://thor.robots.ox.ac.uk/pets/images.tar.gz to ../content/oxford-iiit-pet/images.tar.gz\n"
          ]
        },
        {
          "output_type": "stream",
          "name": "stderr",
          "text": [
            "100%|██████████| 791918971/791918971 [00:30<00:00, 25825374.74it/s]\n"
          ]
        },
        {
          "output_type": "stream",
          "name": "stdout",
          "text": [
            "Extracting ../content/oxford-iiit-pet/images.tar.gz to ../content/oxford-iiit-pet\n",
            "Downloading https://thor.robots.ox.ac.uk/pets/annotations.tar.gz to ../content/oxford-iiit-pet/annotations.tar.gz\n"
          ]
        },
        {
          "output_type": "stream",
          "name": "stderr",
          "text": [
            "100%|██████████| 19173078/19173078 [00:01<00:00, 12242731.72it/s]\n"
          ]
        },
        {
          "output_type": "stream",
          "name": "stdout",
          "text": [
            "Extracting ../content/oxford-iiit-pet/annotations.tar.gz to ../content/oxford-iiit-pet\n"
          ]
        }
      ],
      "source": [
        "training_data = OxfordIIITPet('../content', 'trainval', 'segmentation', transform= CustomTransform(transforms), target_transform= CustomTransform(transforms), download= True)\n",
        "test_data = OxfordIIITPet('../content', 'test', 'segmentation', transform= CustomTransform(transforms), target_transform= CustomTransform(transforms), download= False)"
      ]
    },
    {
      "cell_type": "code",
      "execution_count": 7,
      "metadata": {
        "id": "7KYaeLO1PioK"
      },
      "outputs": [],
      "source": [
        "train_dataloader = DataLoader(training_data, batch_size= batch_size, shuffle= True, drop_last= True)\n",
        "test_dataloader = DataLoader(test_data, batch_size= batch_size, shuffle= True, drop_last= True)"
      ]
    },
    {
      "cell_type": "code",
      "execution_count": 8,
      "metadata": {
        "id": "TiWhgTV6PioK"
      },
      "outputs": [],
      "source": [
        "class DownwardBlock(N.Module):\n",
        "    def __init__(self, in_channels, out_channels, device, stride= 1, kernel_size= 3, padding= 'same'):\n",
        "        super(DownwardBlock, self).__init__()\n",
        "\n",
        "        self.enc_block = N.Sequential(\n",
        "            N.Conv2d(in_channels, out_channels, kernel_size, stride, padding, device= device, bias= False),\n",
        "            N.BatchNorm2d(out_channels, device= device),\n",
        "            N.ReLU(inplace= True),\n",
        "\n",
        "            N.Conv2d(out_channels, out_channels, kernel_size, stride, padding, device= device, bias= False),\n",
        "            N.BatchNorm2d(out_channels, device= device),\n",
        "            N.ReLU(inplace= True)\n",
        "        )\n",
        "\n",
        "    def forward(self, input):\n",
        "        output = self.enc_block(input)\n",
        "        return output"
      ]
    },
    {
      "cell_type": "code",
      "execution_count": 9,
      "metadata": {
        "id": "uMkxpHdNPioK"
      },
      "outputs": [],
      "source": [
        "class DownwardHalf(N.Module):\n",
        "    def __init__(self, filters, device):\n",
        "        super(DownwardHalf, self).__init__()\n",
        "        self.down_blocks = N.ModuleList()\n",
        "        self.mpool = N.MaxPool2d(kernel_size= 2, stride= 2)\n",
        "\n",
        "        for i in range(len(filters)):\n",
        "            if i == 0:\n",
        "                self.down_blocks.append(DownwardBlock(3, filters[i], device= device))\n",
        "            else:\n",
        "                self.down_blocks.append(DownwardBlock(filters[i-1], filters[i], device= device))\n",
        "\n",
        "    def forward(self, input):\n",
        "        skip_conn = []\n",
        "        for i in range(len(self.down_blocks)):\n",
        "            input = self.down_blocks[i](input)\n",
        "            skip_conn.append(input)\n",
        "            input = self.mpool(input)\n",
        "\n",
        "        return input, skip_conn"
      ]
    },
    {
      "cell_type": "code",
      "execution_count": 10,
      "metadata": {
        "id": "U0SMIqB7PioL"
      },
      "outputs": [],
      "source": [
        "class UpwardBlock(N.Module):\n",
        "    def __init__(self, in_channels, out_channels, device, stride= 1, kernel_size= 3, padding='same'):\n",
        "        super(UpwardBlock, self).__init__()\n",
        "\n",
        "        self.tconv = N.ConvTranspose2d(in_channels, out_channels, kernel_size= 2, stride= 2, device= device)\n",
        "        self.dec_block = N.Sequential(\n",
        "            N.Conv2d(in_channels, out_channels, kernel_size, stride, padding, device= device, bias= False),\n",
        "            N.BatchNorm2d(out_channels, device= device),\n",
        "            N.ReLU(inplace= True),\n",
        "\n",
        "            N.Conv2d(out_channels, out_channels, kernel_size, stride, padding, device= device, bias= False),\n",
        "            N.BatchNorm2d(out_channels, device= device),\n",
        "            N.ReLU(inplace= True)\n",
        "        )\n",
        "\n",
        "    def forward(self, input, skip_conn):\n",
        "        tconv_output = self.tconv(input)\n",
        "        concat_output = torch.cat([tconv_output, skip_conn], dim= 1)\n",
        "        output = self.dec_block(concat_output)\n",
        "\n",
        "        return output"
      ]
    },
    {
      "cell_type": "code",
      "execution_count": 11,
      "metadata": {
        "id": "vCtoI94UPioL"
      },
      "outputs": [],
      "source": [
        "class UpwardHalf(N.Module):\n",
        "    def __init__(self, filters, device):\n",
        "        super(UpwardHalf, self).__init__()\n",
        "        self.up_blocks = N.ModuleList()\n",
        "        n = len(filters)\n",
        "\n",
        "        for i in range(n):\n",
        "          self.up_blocks.append(UpwardBlock(filters[n-i-1] * 2, filters[n-i-1], device))\n",
        "\n",
        "    def forward(self, input, skip_conn):\n",
        "        n = len(self.up_blocks)\n",
        "        for i in range(n):\n",
        "            input = self.up_blocks[i](input, skip_conn[n-i-1])\n",
        "\n",
        "        return input"
      ]
    },
    {
      "cell_type": "code",
      "source": [
        "class UNet(N.Module):\n",
        "    def __init__(self, filters, device):\n",
        "        super(UNet, self).__init__()\n",
        "        self.down_half = DownwardHalf(filters, device)\n",
        "        self.up_half = UpwardHalf(filters, device)\n",
        "        self.final_conv = N.Conv2d(filters[0], 1, 3, 1, 'same', device= device)\n",
        "        self.bridge_block = N.Sequential(\n",
        "            N.Conv2d(filters[-1], filters[-1] * 2, 3, 1, 'same', device= device, bias= False),\n",
        "            N.BatchNorm2d(filters[-1] * 2, device= device),\n",
        "            N.ReLU(inplace= True),\n",
        "\n",
        "            N.Conv2d(filters[-1] * 2, filters[-1] * 2, 3, 1, 'same', device= device, bias= False),\n",
        "            N.BatchNorm2d(filters[-1] * 2, device= device),\n",
        "            N.ReLU(inplace= True)\n",
        "        )\n",
        "\n",
        "    def forward(self, input):\n",
        "        down_half_output, skip_conn = self.down_half(input)\n",
        "        bridge_block_output = self.bridge_block(down_half_output)\n",
        "        up_half_output = self.up_half(bridge_block_output, skip_conn)\n",
        "        output = self.final_conv(up_half_output)\n",
        "\n",
        "        return output"
      ],
      "metadata": {
        "id": "jFcjzOHNZtsF"
      },
      "execution_count": 12,
      "outputs": []
    },
    {
      "cell_type": "code",
      "source": [
        "from torchinfo import summary\n",
        "\n",
        "\n",
        "device = torch.device('cuda' if torch.cuda.is_available() else 'cpu')\n",
        "model = UNet(filters, device)\n",
        "\n",
        "summary(model, input_size= (batch_size, 3, 256, 256), col_names=['input_size', 'output_size', 'num_params', 'trainable'],\n",
        "\n",
        "        row_settings=['var_names'], verbose=0)"
      ],
      "metadata": {
        "id": "HTY-iyrzfbiy"
      },
      "execution_count": null,
      "outputs": []
    },
    {
      "cell_type": "code",
      "source": [
        "from torchmetrics.segmentation import MeanIoU, GeneralizedDiceScore\n",
        "\n",
        "loss_fn = N.CrossEntropyLoss()\n",
        "optimizer = torch.optim.Adam(model.parameters(), learning_rate)\n",
        "IoU = MeanIoU(3)\n",
        "DiceScore = GeneralizedDiceScore(3)"
      ],
      "metadata": {
        "id": "14oLqbuXtwdC"
      },
      "execution_count": 20,
      "outputs": []
    },
    {
      "cell_type": "code",
      "source": [
        "for _ in range(epochs):\n",
        "    train_loss = 0\n",
        "    print(f\"\\nStarting epoch {_ + 1}\\n~~~~~~~~~~~~~~\")\n",
        "\n",
        "    for index, (input, target) in enumerate(train_dataloader):\n",
        "        input, target = input.cuda(), target.cuda()\n",
        "        model.train()\n",
        "        output = model(input)\n",
        "\n",
        "        loss = loss_fn(output, target)\n",
        "        train_loss += loss\n",
        "\n",
        "        optimizer.zero_grad()\n",
        "        loss.backward()\n",
        "        optimizer.step()\n",
        "\n",
        "        if(index % 500 == 0):\n",
        "            print(f\"Batch: {index} Loss:{loss:0.5f}\")\n",
        "\n",
        "        train_loss /= len(train_dataloader)\n",
        "    test_loss, test_iou, test_dice = 0, 0, 0\n",
        "    model.eval()\n",
        "\n",
        "    with torch.inference_mode():\n",
        "        for test_input, test_target in test_dataloader:\n",
        "            test_input, test_target = test_input.cuda(), test_target.cuda()\n",
        "\n",
        "            test_pred = model(test_input)\n",
        "            test_loss += loss_fn(test_pred, test_target)\n",
        "            test_iou += IoU(test_target, test_pred)\n",
        "            test_dice += DiceScore(test_target, test_pred)\n",
        "\n",
        "        test_loss /= len(test_dataloader)\n",
        "        test_iou /= len(test_dataloader)\n",
        "        test_dice /= len(test_dataloader)\n",
        "\n",
        "    print(f\"Train loss: {train_loss:0.5f} Test loss: {test_loss:0.5f} Test IoU: {test_iou:0.2f} Test dice score: {test_dice:0.2f}\")"
      ],
      "metadata": {
        "id": "JDWCaeh1ZNcn",
        "outputId": "b0f9e923-9a9a-4a97-93c2-eb96ed5e28e8",
        "colab": {
          "base_uri": "https://localhost:8080/"
        }
      },
      "execution_count": null,
      "outputs": [
        {
          "output_type": "stream",
          "name": "stdout",
          "text": [
            "\n",
            "Starting epoch 1\n",
            "~~~~~~~~~~~~~~\n"
          ]
        }
      ]
    },
    {
      "cell_type": "code",
      "source": [],
      "metadata": {
        "id": "MsqSyQNza16Z"
      },
      "execution_count": null,
      "outputs": []
    }
  ],
  "metadata": {
    "kernelspec": {
      "display_name": "Python 3",
      "language": "python",
      "name": "python3"
    },
    "language_info": {
      "codemirror_mode": {
        "name": "ipython",
        "version": 3
      },
      "file_extension": ".py",
      "mimetype": "text/x-python",
      "name": "python",
      "nbconvert_exporter": "python",
      "pygments_lexer": "ipython3",
      "version": "3.10.12"
    },
    "colab": {
      "provenance": []
    }
  },
  "nbformat": 4,
  "nbformat_minor": 0
}