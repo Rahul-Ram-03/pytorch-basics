{
  "cells": [
    {
      "cell_type": "code",
      "execution_count": null,
      "metadata": {
        "colab": {
          "base_uri": "https://localhost:8080/"
        },
        "id": "hCvLeW4jJ8bQ",
        "outputId": "db5e2949-db61-47a6-e9e2-270b15bb3e5a"
      },
      "outputs": [],
      "source": [
        "!pip install torchmetrics\n",
        "!pip install torchinfo"
      ]
    },
    {
      "cell_type": "code",
      "execution_count": null,
      "metadata": {
        "id": "OBsNxELKPioI"
      },
      "outputs": [],
      "source": [
        "import torch\n",
        "from torch.utils.data import DataLoader, Dataset\n",
        "from torchvision.datasets import OxfordIIITPet\n",
        "from torchvision.transforms import ToTensor, Resize\n",
        "import torch.nn as N\n",
        "import matplotlib.pyplot as plt\n",
        "import cv2 as cv2\n",
        "import itertools"
      ]
    },
    {
      "cell_type": "code",
      "execution_count": null,
      "metadata": {
        "id": "W8ctJoncPioJ"
      },
      "outputs": [],
      "source": [
        "torch.manual_seed(42)\n",
        "\n",
        "batch_size = 32\n",
        "epochs = 5\n",
        "learning_rate = 1e-3\n",
        "\n",
        "filters = [32, 64, 128, 256]\n",
        "drop_rate= 0.15\n",
        "\n",
        "num_classes = 3"
      ]
    },
    {
      "cell_type": "code",
      "execution_count": null,
      "metadata": {
        "id": "M1G7mLBgQ1PP"
      },
      "outputs": [],
      "source": [
        "transforms = [Resize((256,256))]"
      ]
    },
    {
      "cell_type": "code",
      "execution_count": null,
      "metadata": {
        "colab": {
          "base_uri": "https://localhost:8080/"
        },
        "id": "5Pd2KZdAJ2aq",
        "outputId": "2ad50a4d-9fe1-42f1-ffcc-053f6158449d"
      },
      "outputs": [],
      "source": [
        "OxfordIIITPet('../pytorch-basics/datasets', 'trainval', 'segmentation', download= True)"
      ]
    },
    {
      "cell_type": "code",
      "execution_count": null,
      "metadata": {
        "id": "jqr_-QiEJ2ar"
      },
      "outputs": [],
      "source": [
        "class OxfordPetDataset(Dataset):\n",
        "    def __init__(self, split= 'trainval', transforms= []) -> None:\n",
        "        self.transforms = transforms\n",
        "\n",
        "        self.list_of_files = []\n",
        "        self.input_dir = '../pytorch-basics/datasets/oxford-iiit-pet/images/'\n",
        "        self.target_dir = '../pytorch-basics/datasets/oxford-iiit-pet/annotations/trimaps/'\n",
        "\n",
        "        if(split == 'trainval'):\n",
        "            file_list_path = '../pytorch-basics/datasets/oxford-iiit-pet/annotations/trainval.txt'\n",
        "        else:\n",
        "            file_list_path = '../pytorch-basics/datasets/oxford-iiit-pet/annotations/test.txt'\n",
        "\n",
        "        with open(file_list_path, 'r') as f:\n",
        "            for line in f.readlines():\n",
        "                self.list_of_files.append(line.split(' ')[0])\n",
        "\n",
        "    def __len__(self):\n",
        "        return(len(self.list_of_files))\n",
        "\n",
        "    def __getitem__(self, index):\n",
        "        input_path = self.input_dir + self.list_of_files[index] + '.jpg'\n",
        "        target_path = self.target_dir + self.list_of_files[index] + '.png'\n",
        "\n",
        "        input = ToTensor()(cv2.imread(input_path))\n",
        "        target = torch.IntTensor(cv2.imread(target_path, flags= cv2.IMREAD_UNCHANGED))\n",
        "\n",
        "        if len(target.shape) == 2:\n",
        "            target = target[None, :, :]\n",
        "\n",
        "        for transform in self.transforms:\n",
        "            input = transform(input)\n",
        "            target = transform(target)\n",
        "\n",
        "        return (input, target)"
      ]
    },
    {
      "cell_type": "code",
      "execution_count": null,
      "metadata": {
        "id": "rzmnaXa_PioK"
      },
      "outputs": [],
      "source": [
        "training_data = OxfordPetDataset('trainval', transforms= transforms)\n",
        "test_data = OxfordPetDataset('test', transforms= transforms)"
      ]
    },
    {
      "cell_type": "code",
      "execution_count": null,
      "metadata": {
        "id": "7KYaeLO1PioK"
      },
      "outputs": [],
      "source": [
        "train_dataloader = DataLoader(training_data, batch_size= batch_size, shuffle= True, drop_last= True)\n",
        "test_dataloader = DataLoader(test_data, batch_size= batch_size, shuffle= True, drop_last= True)"
      ]
    },
    {
      "cell_type": "code",
      "execution_count": null,
      "metadata": {
        "id": "SQW8KrLZ4uqF"
      },
      "outputs": [],
      "source": [
        "sample_index =  torch.randint(0, len(test_dataloader), size= (1,))\n",
        "sample_input, sample_target = next(itertools.islice(test_dataloader, sample_index, None))"
      ]
    },
    {
      "cell_type": "code",
      "execution_count": null,
      "metadata": {
        "colab": {
          "base_uri": "https://localhost:8080/",
          "height": 470
        },
        "id": "L-qJVVQ0J2as",
        "outputId": "087ae6c2-ea0f-49c8-81e4-eb23a6162643"
      },
      "outputs": [],
      "source": [
        "plt.imshow(sample_input[0].permute(1,2,0))"
      ]
    },
    {
      "cell_type": "code",
      "execution_count": null,
      "metadata": {
        "colab": {
          "base_uri": "https://localhost:8080/",
          "height": 452
        },
        "id": "aYP8Sxbu4-jI",
        "outputId": "8e21602e-4fc8-43d2-ec4f-6ab3adfe2157"
      },
      "outputs": [],
      "source": [
        "plt.imshow(sample_target[0].permute(1,2,0))"
      ]
    },
    {
      "cell_type": "code",
      "execution_count": null,
      "metadata": {
        "id": "TiWhgTV6PioK"
      },
      "outputs": [],
      "source": [
        "class DownwardBlock(N.Module):\n",
        "    def __init__(self, in_channels, out_channels, device, stride= 1, kernel_size= 3, padding= 'same'):\n",
        "        super(DownwardBlock, self).__init__()\n",
        "\n",
        "        self.enc_block = N.Sequential(\n",
        "            N.Conv2d(in_channels, out_channels, kernel_size, stride, padding, device= device, bias= False),\n",
        "            N.BatchNorm2d(out_channels, device= device),\n",
        "            N.ReLU(inplace= True),\n",
        "\n",
        "            N.Conv2d(out_channels, out_channels, kernel_size, stride, padding, device= device, bias= False),\n",
        "            N.BatchNorm2d(out_channels, device= device),\n",
        "            N.ReLU(inplace= True)\n",
        "        )\n",
        "\n",
        "    def forward(self, input):\n",
        "        output = self.enc_block(input)\n",
        "        return output"
      ]
    },
    {
      "cell_type": "code",
      "execution_count": null,
      "metadata": {
        "id": "uMkxpHdNPioK"
      },
      "outputs": [],
      "source": [
        "class DownwardHalf(N.Module):\n",
        "    def __init__(self, filters, device):\n",
        "        super(DownwardHalf, self).__init__()\n",
        "        self.down_blocks = N.ModuleList()\n",
        "        self.mpool = N.MaxPool2d(kernel_size= 2, stride= 2)\n",
        "\n",
        "        for i in range(len(filters)):\n",
        "            if i == 0:\n",
        "                self.down_blocks.append(DownwardBlock(3, filters[i], device= device))\n",
        "            else:\n",
        "                self.down_blocks.append(DownwardBlock(filters[i-1], filters[i], device= device))\n",
        "\n",
        "    def forward(self, input):\n",
        "        skip_conn = []\n",
        "        for i in range(len(self.down_blocks)):\n",
        "            input = self.down_blocks[i](input)\n",
        "            skip_conn.append(input)\n",
        "            input = self.mpool(input)\n",
        "\n",
        "        return input, skip_conn"
      ]
    },
    {
      "cell_type": "code",
      "execution_count": null,
      "metadata": {
        "id": "U0SMIqB7PioL"
      },
      "outputs": [],
      "source": [
        "class UpwardBlock(N.Module):\n",
        "    def __init__(self, in_channels, out_channels, device, stride= 1, kernel_size= 3, padding='same'):\n",
        "        super(UpwardBlock, self).__init__()\n",
        "\n",
        "        self.tconv = N.ConvTranspose2d(in_channels, out_channels, kernel_size= 2, stride= 2, device= device)\n",
        "        self.dec_block = N.Sequential(\n",
        "            N.Conv2d(in_channels, out_channels, kernel_size, stride, padding, device= device, bias= False),\n",
        "            N.BatchNorm2d(out_channels, device= device),\n",
        "            N.ReLU(inplace= True),\n",
        "\n",
        "            N.Conv2d(out_channels, out_channels, kernel_size, stride, padding, device= device, bias= False),\n",
        "            N.BatchNorm2d(out_channels, device= device),\n",
        "            N.ReLU(inplace= True)\n",
        "        )\n",
        "\n",
        "    def forward(self, input, skip_conn):\n",
        "        tconv_output = self.tconv(input)\n",
        "        concat_output = torch.cat([tconv_output, skip_conn], dim= 1)\n",
        "        output = self.dec_block(concat_output)\n",
        "\n",
        "        return output"
      ]
    },
    {
      "cell_type": "code",
      "execution_count": null,
      "metadata": {
        "id": "vCtoI94UPioL"
      },
      "outputs": [],
      "source": [
        "class UpwardHalf(N.Module):\n",
        "    def __init__(self, filters, device):\n",
        "        super(UpwardHalf, self).__init__()\n",
        "        self.up_blocks = N.ModuleList()\n",
        "        n = len(filters)\n",
        "\n",
        "        for i in range(n):\n",
        "          self.up_blocks.append(UpwardBlock(filters[n-i-1] * 2, filters[n-i-1], device))\n",
        "\n",
        "    def forward(self, input, skip_conn):\n",
        "        n = len(self.up_blocks)\n",
        "        for i in range(n):\n",
        "            input = self.up_blocks[i](input, skip_conn[n-i-1])\n",
        "\n",
        "        return input"
      ]
    },
    {
      "cell_type": "code",
      "execution_count": null,
      "metadata": {
        "id": "jFcjzOHNZtsF"
      },
      "outputs": [],
      "source": [
        "class UNet(N.Module):\n",
        "    def __init__(self, filters, device):\n",
        "        super(UNet, self).__init__()\n",
        "        self.down_half = DownwardHalf(filters, device)\n",
        "        self.up_half = UpwardHalf(filters, device)\n",
        "        self.final_conv = N.Conv2d(filters[0], num_classes, 3, 1, 'same', device= device)\n",
        "        self.bridge_block = N.Sequential(\n",
        "            N.Conv2d(filters[-1], filters[-1] * 2, 3, 1, 'same', device= device, bias= False),\n",
        "            N.BatchNorm2d(filters[-1] * 2, device= device),\n",
        "            N.ReLU(inplace= True),\n",
        "\n",
        "            N.Conv2d(filters[-1] * 2, filters[-1] * 2, 3, 1, 'same', device= device, bias= False),\n",
        "            N.BatchNorm2d(filters[-1] * 2, device= device),\n",
        "            N.ReLU(inplace= True)\n",
        "        )\n",
        "\n",
        "    def forward(self, input):\n",
        "        down_half_output, skip_conn = self.down_half(input)\n",
        "        bridge_block_output = self.bridge_block(down_half_output)\n",
        "        up_half_output = self.up_half(bridge_block_output, skip_conn)\n",
        "        output = self.final_conv(up_half_output)\n",
        "\n",
        "        return output"
      ]
    },
    {
      "cell_type": "code",
      "execution_count": null,
      "metadata": {
        "colab": {
          "base_uri": "https://localhost:8080/"
        },
        "id": "HTY-iyrzfbiy",
        "outputId": "54f834be-57a7-4c57-f181-61c44c7f60c0"
      },
      "outputs": [],
      "source": [
        "from torchinfo import summary\n",
        "\n",
        "\n",
        "device = torch.device('cuda' if torch.cuda.is_available() else 'cpu')\n",
        "model = UNet(filters, device)\n",
        "\n",
        "summary(model, input_size= (batch_size, 3, 256, 256), col_names=['input_size', 'output_size', 'num_params', 'trainable'],\n",
        "\n",
        "        row_settings=['var_names'], verbose=0)"
      ]
    },
    {
      "cell_type": "code",
      "execution_count": null,
      "metadata": {
        "id": "14oLqbuXtwdC"
      },
      "outputs": [],
      "source": [
        "from torchmetrics.segmentation import MeanIoU, GeneralizedDiceScore\n",
        "\n",
        "loss_fn = N.CrossEntropyLoss()\n",
        "optimizer = torch.optim.Adam(model.parameters(), learning_rate)\n",
        "IoU = MeanIoU(3)\n",
        "DiceScore = GeneralizedDiceScore(3)"
      ]
    },
    {
      "cell_type": "code",
      "execution_count": null,
      "metadata": {
        "colab": {
          "base_uri": "https://localhost:8080/",
          "height": 425
        },
        "id": "JDWCaeh1ZNcn",
        "outputId": "11e10d5d-b191-48c5-87e9-3eed01706816"
      },
      "outputs": [],
      "source": [
        "for _ in range(epochs):\n",
        "    train_loss = 0\n",
        "    print(f\"\\nStarting epoch {_ + 1}\\n~~~~~~~~~~~~~~\")\n",
        "\n",
        "    for index, (input, target) in enumerate(train_dataloader):\n",
        "        input, target = input.cuda(), target.cuda()\n",
        "        model.train()\n",
        "        output = model(input)\n",
        "\n",
        "        target -= 1\n",
        "        target = N.functional.one_hot(target, num_classes)        \n",
        "\n",
        "        loss = loss_fn(output, target)\n",
        "        train_loss += loss\n",
        "\n",
        "        optimizer.zero_grad()\n",
        "        loss.backward()\n",
        "        optimizer.step()\n",
        "\n",
        "        if(index % 100 == 0):\n",
        "            print(f\"Batch: {index} Loss:{loss:0.9f}\")\n",
        "\n",
        "        train_loss /= len(train_dataloader)\n",
        "    test_loss, test_dice = 0, 0\n",
        "    model.eval()\n",
        "\n",
        "    with torch.inference_mode():\n",
        "        for test_input, test_target in test_dataloader:\n",
        "            test_input, test_target = test_input.cuda(), test_target.cuda()\n",
        "\n",
        "            test_pred = model(test_input)\n",
        "            test_loss += loss_fn(test_pred, test_target)\n",
        "            # test_dice += DiceScore(test_target, test_pred)\n",
        "\n",
        "        test_loss /= len(test_dataloader)\n",
        "        test_dice /= len(test_dataloader)\n",
        "\n",
        "    print(f\"Train loss: {train_loss:0.5f} Test loss: {test_loss:0.5f} Test dice score: {test_dice:0.2f}\")"
      ]
    },
    {
      "cell_type": "code",
      "execution_count": null,
      "metadata": {
        "id": "MsqSyQNza16Z"
      },
      "outputs": [],
      "source": []
    }
  ],
  "metadata": {
    "accelerator": "GPU",
    "colab": {
      "gpuType": "T4",
      "provenance": []
    },
    "kernelspec": {
      "display_name": "Python 3",
      "name": "python3"
    },
    "language_info": {
      "codemirror_mode": {
        "name": "ipython",
        "version": 3
      },
      "file_extension": ".py",
      "mimetype": "text/x-python",
      "name": "python",
      "nbconvert_exporter": "python",
      "pygments_lexer": "ipython3",
      "version": "3.10.11"
    }
  },
  "nbformat": 4,
  "nbformat_minor": 0
}
