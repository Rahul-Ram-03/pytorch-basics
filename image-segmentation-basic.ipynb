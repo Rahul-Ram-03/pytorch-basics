{
  "cells": [
    {
      "cell_type": "code",
      "execution_count": 1,
      "metadata": {
        "id": "OBsNxELKPioI"
      },
      "outputs": [],
      "source": [
        "import torch\n",
        "from torch.utils.data import DataLoader\n",
        "from torchvision.datasets import OxfordIIITPet\n",
        "from torchvision.transforms import ToTensor, Resize\n",
        "import torch.nn as N\n",
        "import matplotlib.pyplot as plt"
      ]
    },
    {
      "cell_type": "code",
      "execution_count": 2,
      "metadata": {
        "id": "W8ctJoncPioJ"
      },
      "outputs": [],
      "source": [
        "torch.manual_seed(42)\n",
        "\n",
        "batch_size = 32\n",
        "epochs = 5\n",
        "learning_rate = 1e-3\n",
        "\n",
        "filters = [32, 64, 128, 256]\n",
        "drop_rate= 0.15\n",
        "\n",
        "img_depth = 3"
      ]
    },
    {
      "cell_type": "code",
      "source": [
        "transforms = [ToTensor(), Resize((256,256))]"
      ],
      "metadata": {
        "id": "M1G7mLBgQ1PP"
      },
      "execution_count": 3,
      "outputs": []
    },
    {
      "cell_type": "code",
      "execution_count": 4,
      "metadata": {
        "id": "rzmnaXa_PioK",
        "outputId": "f24ef537-b1c2-4544-e413-b8306a10ef92",
        "colab": {
          "base_uri": "https://localhost:8080/"
        }
      },
      "outputs": [
        {
          "output_type": "stream",
          "name": "stdout",
          "text": [
            "Downloading https://thor.robots.ox.ac.uk/pets/images.tar.gz to ../content/oxford-iiit-pet/images.tar.gz\n"
          ]
        },
        {
          "output_type": "stream",
          "name": "stderr",
          "text": [
            "100%|██████████| 791918971/791918971 [00:06<00:00, 119972984.99it/s]\n"
          ]
        },
        {
          "output_type": "stream",
          "name": "stdout",
          "text": [
            "Extracting ../content/oxford-iiit-pet/images.tar.gz to ../content/oxford-iiit-pet\n",
            "Downloading https://thor.robots.ox.ac.uk/pets/annotations.tar.gz to ../content/oxford-iiit-pet/annotations.tar.gz\n"
          ]
        },
        {
          "output_type": "stream",
          "name": "stderr",
          "text": [
            "100%|██████████| 19173078/19173078 [00:00<00:00, 104804867.07it/s]\n"
          ]
        },
        {
          "output_type": "stream",
          "name": "stdout",
          "text": [
            "Extracting ../content/oxford-iiit-pet/annotations.tar.gz to ../content/oxford-iiit-pet\n"
          ]
        }
      ],
      "source": [
        "training_data = OxfordIIITPet('../content', 'trainval', 'segmentation', transforms= transforms, download= True)\n",
        "test_data = OxfordIIITPet('../content', 'test', 'segmentation', transforms= transforms, download= False)"
      ]
    },
    {
      "cell_type": "code",
      "execution_count": 5,
      "metadata": {
        "id": "7KYaeLO1PioK"
      },
      "outputs": [],
      "source": [
        "train_dataloader = DataLoader(training_data, batch_size= batch_size, shuffle= True, drop_last= True)\n",
        "test_dataloader = DataLoader(test_data, batch_size= batch_size, shuffle= True, drop_last= True)"
      ]
    },
    {
      "cell_type": "code",
      "execution_count": 6,
      "metadata": {
        "id": "TiWhgTV6PioK"
      },
      "outputs": [],
      "source": [
        "class DownwardBlock(N.Module):\n",
        "    def __init__(self, in_channels, out_channels, device, stride= 1, kernel_size= 3, padding= 'same'):\n",
        "        super(DownwardBlock, self).__init__()\n",
        "\n",
        "        self.enc_block = N.Sequential(\n",
        "            N.Conv2d(in_channels, out_channels, kernel_size, stride, padding, device= device, bias= False),\n",
        "            N.BatchNorm2d(out_channels, device= device),\n",
        "            N.ReLU(inplace= True),\n",
        "\n",
        "            N.Conv2d(out_channels, out_channels, kernel_size, stride, padding, device= device, bias= False),\n",
        "            N.BatchNorm2d(out_channels, device= device),\n",
        "            N.ReLU(inplace= True)\n",
        "        )\n",
        "\n",
        "    def forward(self, input):\n",
        "        output = self.enc_block(input)\n",
        "        return output"
      ]
    },
    {
      "cell_type": "code",
      "execution_count": 7,
      "metadata": {
        "id": "uMkxpHdNPioK"
      },
      "outputs": [],
      "source": [
        "class DownwardHalf(N.Module):\n",
        "    def __init__(self, filters, device):\n",
        "        super(DownwardHalf, self).__init__()\n",
        "        self.down_blocks = N.ModuleList()\n",
        "        self.mpool = N.MaxPool2d(kernel_size= 2, stride= 2)\n",
        "\n",
        "        for i in range(len(filters)):\n",
        "            if i == 0:\n",
        "                self.down_blocks.append(DownwardBlock(3, filters[i], device= device))\n",
        "            else:\n",
        "                self.down_blocks.append(DownwardBlock(filters[i-1], filters[i], device= device))\n",
        "\n",
        "    def forward(self, input):\n",
        "        skip_conn = []\n",
        "        for i in range(len(self.down_blocks)):\n",
        "            input = self.down_blocks[i](input)\n",
        "            skip_conn.append(input)\n",
        "            input = self.mpool(input)\n",
        "\n",
        "        return input, skip_conn"
      ]
    },
    {
      "cell_type": "code",
      "execution_count": 8,
      "metadata": {
        "id": "U0SMIqB7PioL"
      },
      "outputs": [],
      "source": [
        "class UpwardBlock(N.Module):\n",
        "    def __init__(self, in_channels, out_channels, device, stride= 1, kernel_size= 3, padding='same'):\n",
        "        super(UpwardBlock, self).__init__()\n",
        "\n",
        "        self.tconv = N.ConvTranspose2d(in_channels, in_channels, kernel_size= 2, stride= 2, device= device)\n",
        "        self.dec_block = N.Sequential(\n",
        "            N.Conv2d(in_channels, out_channels, kernel_size, stride, padding, device= device, bias= False),\n",
        "            N.BatchNorm2d(out_channels, device= device),\n",
        "            N.ReLU(inplace= True),\n",
        "\n",
        "            N.Conv2d(out_channels, out_channels, kernel_size, stride, padding, device= device, bias= False),\n",
        "            N.BatchNorm2d(out_channels, device= device),\n",
        "            N.ReLU(inplace= True)\n",
        "        )\n",
        "\n",
        "    def forward(self, input, skip_conn):\n",
        "        tconv_output = self.tconv(input)\n",
        "        concat_output = torch.cat([tconv_output, skip_conn], dim= 1)\n",
        "        output = self.dec_block(concat_output)\n",
        "\n",
        "        return output"
      ]
    },
    {
      "cell_type": "code",
      "execution_count": 9,
      "metadata": {
        "id": "vCtoI94UPioL"
      },
      "outputs": [],
      "source": [
        "class UpwardHalf(N.Module):\n",
        "    def __init__(self, filters, device):\n",
        "        super(UpwardHalf, self).__init__()\n",
        "        self.up_blocks = N.ModuleList()\n",
        "        n = len(filters)\n",
        "\n",
        "        for i in range(n):\n",
        "          self.up_blocks.append(UpwardBlock(filters[n-i-1] * 2, filters[n-i-1], device))\n",
        "\n",
        "    def forward(self, input, skip_conn):\n",
        "        n = len(self.up_blocks)\n",
        "        for i in range(n):\n",
        "            input = self.up_blocks[i](input, skip_conn[n-i-1])\n",
        "\n",
        "        return input"
      ]
    },
    {
      "cell_type": "code",
      "source": [
        "class UNet(N.Module):\n",
        "    def __init__(self, filters, device):\n",
        "        super(UNet, self).__init__()\n",
        "        self.down_half = DownwardHalf(filters, device)\n",
        "        self.up_half = UpwardHalf(filters, device)\n",
        "        self.final_conv = N.Conv2d(filters[-1], 1, 3, 1, 'same', device= device)\n",
        "        self.bridge_block = N.Sequential(\n",
        "            N.Conv2d(filters[-1], filters[-1] * 2, 3, 1, 'same', device= device, bias= False),\n",
        "            N.BatchNorm2d(filters[-1] * 2, device= device),\n",
        "            N.ReLU(inplace= True),\n",
        "\n",
        "            N.Conv2d(filters[-1] * 2, filters[-1] * 2, 3, 1, 'same', device= device, bias= False),\n",
        "            N.BatchNorm2d(filters[-1] * 2, device= device),\n",
        "            N.ReLU(inplace= True)\n",
        "        )\n",
        "\n",
        "    def forward(self, input):\n",
        "        down_half_output, skip_conn = self.down_half(input)\n",
        "        bridge_block_output = self.bridge_block(down_half_output)\n",
        "        up_half_output = self.up_half(bridge_block_output, skip_conn)\n",
        "        output = self.final_conv(up_half_output)\n",
        "\n",
        "        return output"
      ],
      "metadata": {
        "id": "jFcjzOHNZtsF"
      },
      "execution_count": 10,
      "outputs": []
    },
    {
      "cell_type": "code",
      "source": [],
      "metadata": {
        "id": "HTY-iyrzfbiy"
      },
      "execution_count": null,
      "outputs": []
    }
  ],
  "metadata": {
    "kernelspec": {
      "display_name": "Python 3",
      "language": "python",
      "name": "python3"
    },
    "language_info": {
      "codemirror_mode": {
        "name": "ipython",
        "version": 3
      },
      "file_extension": ".py",
      "mimetype": "text/x-python",
      "name": "python",
      "nbconvert_exporter": "python",
      "pygments_lexer": "ipython3",
      "version": "3.10.12"
    },
    "colab": {
      "provenance": []
    }
  },
  "nbformat": 4,
  "nbformat_minor": 0
}