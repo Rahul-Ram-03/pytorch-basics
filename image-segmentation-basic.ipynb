{
 "cells": [
  {
   "cell_type": "code",
   "execution_count": null,
   "metadata": {},
   "outputs": [],
   "source": [
    "import torch\n",
    "from torch.utils.data import DataLoader, Dataset\n",
    "from torchvision.transforms import ToTensor, Resize\n",
    "import torch.nn as N\n",
    "import matplotlib.pyplot as plt"
   ]
  },
  {
   "cell_type": "code",
   "execution_count": null,
   "metadata": {},
   "outputs": [],
   "source": [
    "torch.manual_seed(42)\n",
    "\n",
    "batch_size = 32\n",
    "epochs = 5\n",
    "learning_rate = 1e-3\n",
    "\n",
    "filters = [32, 64, 128, 256]\n",
    "drop_rate= 0.15\n",
    "\n",
    "img_depth = 3"
   ]
  },
  {
   "cell_type": "code",
   "execution_count": null,
   "metadata": {},
   "outputs": [],
   "source": [
    "class OxfordPetDataset(Dataset): \n",
    "    def __init__(self, split= 'trainval', transforms= []) -> None:\n",
    "        self.transforms = transforms\n",
    "\n",
    "        self.list_of_files = []\n",
    "        self.input_dir = '../pytorch-basics/datasets/oxford-iiit-pet/images/'\n",
    "        self.target_dir = '../pytorch-basics/datasets/oxford-iiit-pet/annotations/trimaps/'\n",
    "\n",
    "        if(split == 'trainval'):\n",
    "            file_list_path = '../pytorch-basics/datasets/oxford-iiit-pet/annotations/trainval.txt'\n",
    "        else:\n",
    "            file_list_path = '../pytorch-basics/datasets/oxford-iiit-pet/annotations/test.txt'\n",
    "\n",
    "        with open(file_list_path, 'r') as f:\n",
    "            for line in f.readlines():\n",
    "                self.list_of_files.append(line.split(' ')[0])\n",
    "\n",
    "    def __len__(self):\n",
    "        return(len(self.list_of_files))\n",
    "\n",
    "    def __getitem__(self, index):\n",
    "        input_path = self.input_dir + self.list_of_files[index] + '.jpg'\n",
    "        target_path = self.target_dir + self.list_of_files[index] + '.png'\n",
    "\n",
    "        input = plt.imread(input_path, format= 'jpg')\n",
    "        target = plt.imread(target_path, format= 'png')\n",
    "\n",
    "        for transform in self.transforms:\n",
    "            input = transform(input)\n",
    "            target = transform(target)\n",
    "\n",
    "        return (input, target)"
   ]
  },
  {
   "cell_type": "code",
   "execution_count": null,
   "metadata": {},
   "outputs": [],
   "source": [
    "training_data = OxfordPetDataset(split= 'trainval', transforms= [ToTensor(), Resize((256, 256))])\n",
    "test_data = OxfordPetDataset(split= 'test', transforms= [ToTensor(), Resize((256, 256))])"
   ]
  },
  {
   "cell_type": "code",
   "execution_count": null,
   "metadata": {},
   "outputs": [],
   "source": [
    "train_dataloader = DataLoader(training_data, batch_size= batch_size, shuffle= True, drop_last= True)\n",
    "test_dataloader = DataLoader(test_data, batch_size= batch_size, shuffle= True, drop_last= True)"
   ]
  },
  {
   "cell_type": "code",
   "execution_count": null,
   "metadata": {},
   "outputs": [],
   "source": [
    "class DownwardBlock(N.Module):\n",
    "    def __init__(self, in_channels, out_channels, device, stride= 1, kernel_size= 3, padding= 'same'):\n",
    "        super(DownwardBlock, self).__init__()\n",
    "\n",
    "        self.enc_block = N.Sequential(\n",
    "            N.Conv2d(in_channels, out_channels, kernel_size, stride, padding, device= device, bias= False),\n",
    "            N.BatchNorm2d(out_channels, device= device),\n",
    "            N.ReLU(inplace= True),\n",
    "\n",
    "            N.Conv2d(out_channels, out_channels, kernel_size, stride, padding, device= device, bias= False),\n",
    "            N.BatchNorm2d(out_channels, device= device),\n",
    "            N.ReLU(inplace= True)\n",
    "        )\n",
    "    \n",
    "    def forward(self, input):\n",
    "        output = self.enc_block(input)\n",
    "        return output"
   ]
  },
  {
   "cell_type": "code",
   "execution_count": null,
   "metadata": {},
   "outputs": [],
   "source": [
    "class DownwardHalf(N.Module):\n",
    "    def __init__(self, filters, device):\n",
    "        super(DownwardHalf, self).__init__()\n",
    "        self.down_blocks = N.ModuleList()\n",
    "        self.mpool = N.MaxPool2d(kernel_size= 2, stride= 2)\n",
    "\n",
    "        for i in range(len(filters)):\n",
    "            if i == 0:\n",
    "                self.down_blocks.append(DownwardBlock(3, filters[i], device= device))\n",
    "            else:\n",
    "                self.down_blocks.append(DownwardBlock(filters[i-1], filters[i], device= device))\n",
    "\n",
    "    def forward(self, input):\n",
    "        skip_conn = []\n",
    "        for i in range(len(self.down_blocks)):\n",
    "            input = self.down_blocks[i](input)\n",
    "            skip_conn.append(input)\n",
    "            input = self.mpool(input)\n",
    "        \n",
    "        return input, skip_conn"
   ]
  },
  {
   "cell_type": "code",
   "execution_count": null,
   "metadata": {},
   "outputs": [],
   "source": [
    "class UpwardBlock(N.Module):\n",
    "    def __init__(self, skip_conn, in_channels, out_channels, device, stride= 1, kernel_size= 3, padding=' same'):\n",
    "        super(UpwardBlock, self).__init__()\n",
    "\n",
    "        self.tconv = N.ConvTranspose2d(in_channels, in_channels, kernel_size, stride, device= device) #add padding here; also change kernel_size and stride\n",
    "        self.dec_block = N.Sequential(\n",
    "            N.Conv2d(in_channels, out_channels, kernel_size, stride, padding, device= device, bias= False),\n",
    "            N.BatchNorm2d(out_channels, device= device),\n",
    "            N.ReLU(inplace= True),\n",
    "\n",
    "            N.Conv2d(out_channels, out_channels, kernel_size, stride, padding, device= device, bias= False),\n",
    "            N.BatchNorm2d(out_channels, device= device),\n",
    "            N.ReLU(inplace= True)\n",
    "        )\n",
    "    \n",
    "    def forward(self, input, skip_conn):\n",
    "        tconv_output = self.tconv(input)\n",
    "        concat_output = torch.cat([tconv_output, skip_conn], dim= 1)\n",
    "        output = self.dec_block(concat_output)\n",
    "\n",
    "        return output"
   ]
  },
  {
   "cell_type": "code",
   "execution_count": null,
   "metadata": {},
   "outputs": [],
   "source": [
    "class UpwardHalf(N.Module):\n",
    "    def __init__(self):\n",
    "        super(UpwardHalf, self).__init__()\n",
    "        self.up_blocks = N.ModuleList()\n"
   ]
  }
 ],
 "metadata": {
  "kernelspec": {
   "display_name": "Python 3",
   "language": "python",
   "name": "python3"
  },
  "language_info": {
   "codemirror_mode": {
    "name": "ipython",
    "version": 3
   },
   "file_extension": ".py",
   "mimetype": "text/x-python",
   "name": "python",
   "nbconvert_exporter": "python",
   "pygments_lexer": "ipython3",
   "version": "3.10.12"
  }
 },
 "nbformat": 4,
 "nbformat_minor": 2
}
